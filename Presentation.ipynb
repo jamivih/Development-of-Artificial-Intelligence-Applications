{
 "cells": [
  {
   "cell_type": "markdown",
   "metadata": {},
   "source": [
    "Here’s the updated markdown template with space for each team member to fill in their contributions:\n",
    "\n",
    "---\n",
    "\n",
    "# **Project Presentation**: _[Project Title]_\n",
    "\n",
    "---\n",
    "\n",
    "## **Team Members**\n",
    "\n",
    "- **Mähönen Janne**: Worked on text-to-speech (TTS), translation, and summary types integration.\n",
    "- **Ocampo Heidi**: [Brief description of your role and contribution].\n",
    "- **Sillanaukee Joonas**: [Brief description of your role and contribution].\n",
    "- **Silvola Izabel**: [Brief description of your role and contribution].\n",
    "- **Vihanto Jami**: [Brief description of your role and contribution].\n",
    "\n",
    "---\n",
    "\n",
    "## **1. Introduction**\n",
    "\n",
    "- **Objective**: Provide a brief summary of the project's main goal.\n",
    "- **Key Tools**: Highlight the primary models/tools used (e.g., _BART for summarization, deep_translator for text-to-speech_).\n",
    "\n",
    "## **2. Design**\n"
   ]
  }
 ],
 "metadata": {
  "language_info": {
   "name": "python"
  }
 },
 "nbformat": 4,
 "nbformat_minor": 2
}
